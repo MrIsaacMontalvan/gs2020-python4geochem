{
 "cells": [
  {
   "cell_type": "markdown",
   "metadata": {},
   "source": [
    "# Building Open Source Geochemical Research Tools in Python\n",
    "\n",
    "<a href=\"https://doi.org/10.5281/zenodo.3874952\"><img src=\"https://zenodo.org/badge/DOI/10.5281/zenodo.3874952.svg\" align=\"right\" alt=\"doi: 10.5281/zenodo.3875779\" style=\"padding: 0px 10px 10px 0px\"></a>\n",
    "<a href=\"https://github.com/morganjwilliams/gs2020-python4geochem/blob/master/LICENSE\"><img src=\"https://img.shields.io/badge/License-MIT-blue.svg\" align=\"right\" alt=\"License: MIT\" style=\"padding: 0px 10px 10px 0px\"></a>\n",
    "\n",
    "<span id='authors'><b>Morgan Williams <a class=\"fa fa-twitter\" aria-hidden=\"true\" href=\"https://twitter.com/metasomite\" title=\"@metasomite\"></a></b>, Louise Schoneveld, Steve Barnes and Jens Klump; </span>\n",
    "<span id='affiliation'><em>CSIRO Mineral Resources</em></span>\n",
    "\n",
    "### Contents\n",
    "\n",
    "| [**Abstract**](./00_overview.ipynb) | **Introduction**  | [**Examples**](./01_examples.ipynb)  |\n",
    "|:-----|:-----|:-----|\n",
    "|  | [Software in Geochem](./01_intro.ipynb#Software-in-Geochemistry)  |  [pyrolite](./011_pyrolite.ipynb)  |\n",
    "|  | [Development & Tools](./01_intro.ipynb#Development-Workflow-&-Tools) | [pyrolite-meltsutil](./012_pyrolite-meltsutil.ipynb) | \n",
    "|  |  | [interferences](./013_interferences.ipynb) | \n",
    "|  |  | [autopew](./014_autopew.ipynb) |  "
   ]
  },
  {
   "cell_type": "markdown",
   "metadata": {},
   "source": [
    "The following section lists a set of Python packages developed largely for geochemical research purposes, and demonstrates some of their functionality. Follow the links on the headings to have a look at some examples and interactive visualisations. Note that the figures displayed are actually being generated from code when each page is opened, so it may take a few seconds to open!\n",
    "\n",
    "Alternatively, follow the 'docs' links under the respective heading to have a look at the more extensive documentation pages."
   ]
  },
  {
   "cell_type": "markdown",
   "metadata": {},
   "source": [
    "## [pyrolite](./021_pyrolite.ipynb)\n",
    "\n",
    ">  pyrolite is a set of tools for making the most of your geochemical data.\n",
    "\n",
    "[![PyPI](https://img.shields.io/pypi/v/pyrolite.svg?style=flat)](https://pypi.python.org/pypi/pyrolite)\n",
    "[![Docs](https://readthedocs.org/projects/pyrolite/badge/?version=develop)](https://pyrolite.readthedocs.io/)\n",
    "[![pyOpenSci](https://tinyurl.com/y22nb8up)](https://github.com/pyOpenSci/software-review/issues/20)\n",
    "[![DOI](https://joss.theoj.org/papers/10.21105/joss.02314/status.svg)](https://doi.org/10.21105/joss.02314)"
   ]
  },
  {
   "cell_type": "markdown",
   "metadata": {},
   "source": [
    "## [pyrolite-meltsutil](./022_pyrolite-meltsutil.ipynb)\n",
    "\n",
    ">  pyrolite-meltsutil is a pyrolite extension for working with alphaMELTS and its outputs.\n",
    "\n",
    "[![PyPI](https://img.shields.io/pypi/v/pyrolite-meltsutil.svg?style=flat)](https://pypi.python.org/pypi/pyrolite-meltsutil)\n",
    "[![Docs](https://readthedocs.org/projects/pyrolite-meltsutil/badge/?version=develop)](https://pyrolite-meltsutil.readthedocs.io/)"
   ]
  },
  {
   "cell_type": "markdown",
   "metadata": {},
   "source": [
    "## [interferences](./023_interferences.ipynb)\n",
    "\n",
    ">  Tools for inorganic mass spectra and interference patterns.\n",
    "\n",
    "[![Docs](https://readthedocs.org/projects/interferences/badge/?version=develop)](https://interferences.readthedocs.io/)\n"
   ]
  },
  {
   "cell_type": "markdown",
   "metadata": {},
   "source": [
    "## [autopew](./024_autopew.ipynb)\n",
    "\n",
    "[![Docs](https://readthedocs.org/projects/autopew/badge/?version=develop)](https://autopew.readthedocs.io/)\n",
    "   \n",
    ">  Automating sample targeting for geological microanalysis systems."
   ]
  },
  {
   "cell_type": "markdown",
   "metadata": {},
   "source": [
    "------\n",
    "\n",
    "| [**Abstract**](./00_overview.ipynb) | **Introduction**  | [**Examples**](./01_examples.ipynb)  |\n",
    "|:-----|:-----|:-----|\n",
    "|  | [Software in Geochem](./01_intro.ipynb#Software-in-Geochemistry)  |  [pyrolite](./011_pyrolite.ipynb)  |\n",
    "|  | [Development & Tools](./01_intro.ipynb#Development-Workflow-&-Tools) | [pyrolite-meltsutil](./012_pyrolite-meltsutil.ipynb) | \n",
    "|  |  | [interferences](./013_interferences.ipynb) | \n",
    "|  |  | [autopew](./014_autopew.ipynb) |  "
   ]
  }
 ],
 "metadata": {
  "kernelspec": {
   "display_name": "Python 3",
   "language": "python",
   "name": "python3"
  },
  "language_info": {
   "codemirror_mode": {
    "name": "ipython",
    "version": 3
   },
   "file_extension": ".py",
   "mimetype": "text/x-python",
   "name": "python",
   "nbconvert_exporter": "python",
   "pygments_lexer": "ipython3",
   "version": "3.7.4"
  }
 },
 "nbformat": 4,
 "nbformat_minor": 4
}
