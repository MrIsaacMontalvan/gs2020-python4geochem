{
 "cells": [
  {
   "cell_type": "markdown",
   "metadata": {},
   "source": [
    "# Building Open Source Geochemical Research Tools in Python\n",
    "\n",
    "<span id='authors'><b>Morgan Williams</b>, Louise Schoneveld, Steve Barnes and Jens Klump;</span>\n",
    "<span id='affiliation'><em>CSIRO Mineral Resources</em></span>\n",
    "\n",
    "[**Abstract**](./00_overview.ipynb) | \n",
    "**Intro**:\n",
    "[Software in Geochem](./01_intro.ipynb#Software-in-Geochemistry),\n",
    "[Development & Tools](./01_intro.ipynb#Development-Workflow-&-Tools) |\n",
    "[**Examples**](./02_examples.ipynb):\n",
    "[pyrolite](./021_pyrolite.ipynb),\n",
    "[pyrolite-meltsutil](./022_pyrolite-meltsutil.ipynb),\n",
    "[interferences](./023_interferences.ipynb),\n",
    "[autopew](./024_autopew.ipynb)"
   ]
  },
  {
   "cell_type": "markdown",
   "metadata": {},
   "source": [
    "## Key Messages\n",
    "\n",
    "* Software is a key part of geochemical research\n",
    "* Existing software is often relatively inflexible and intransparent\n",
    "* Developing open-source tools can address some of the existing challenges\n",
    "* Community input and support is likely required to make this sustainable\n",
    "\n",
    "## Software in Geochemistry\n",
    "\n",
    "While software was once auxiliary to the collection of data and generation of knowledge, it is quickly becoming an essential component of scientific research. In geochemical research, we use software<sup><a id=\"a1\">[*](#f1)</a></sup> to control instruments and collect data, to reduce this raw data to produce estimates of composition, to analyse and model our data, and to produce graphical representations which we can use to communicate the meaning and significance of all of this. Additionally, while it's not the focus of this presentation, reserach software can also be later tertiary education programmes, especially those which seek to introduce students to what research looks like in practise. \n",
    "\n",
    "With regard to mass-spectrometry, software for data collection is often specific to individual instruments and in most cases proprietary, but tools for data analysis and visualisation can vary widely. Particularly in this space, there’s opportunities to develop specialised tools to enhance and add value geochemical research outputs, and potentially get more out of our data. In particular, specifically designing software for transparency, reproducibility and accessibility will aid the interpretability of results and data reuse. In this presentation we make the case for developing tools for geochemical research with Python<sup><a id=\"a2\">[†](#f2)</a></sup>, and in the open - ideally with contribution from a community of users. \n",
    "\n",
    "While it’s not always the first option, developing your own software may be a productive path if you’re frequently having issues wrangling with inflexible (and sometimes, expensive) software which doesn’t meet your need. With some planning and design, It is also a way to add value to research already being conducted, bring interoperability and standardisation and contribute to the community.\n",
    "\n",
    "<sup>\n",
    "<p>   \n",
    "<b id=\"f1\">*</b>: Here where we refer to software, we are purposely using the term in a relatively broad sense, and intend to refer to the range of software-based tools which are used in geochemistry (i.e. everything from templated excel spreadsheets to ecosystems of related professionally-developed standalone executable programs). <a href='#a1'>↩</a>\n",
    "</p>\n",
    "<p>\n",
    "<b id=\"f2\">†</b>: Note that while this presentation focuses on Python, it is largely for reasons of convenience rather than in support of it’s exclusive use. There are a number of languages which fit well with the ideas presented here and are approachable for those new to coding, notably including R and Julia. <a href='#a2'>↩</a>\n",
    "</p>\n",
    "</sup>\n",
    "\n",
    "## Requirements and Challenges for Research Software\n",
    "\n",
    "There are number of key challenges for the development, adoption and sustainability of research software projects. Below we've listed a few of them with assocaited questions, and some potential solutions or advantages in developing community-driven open-source software.\n",
    "\n",
    "<dl>\n",
    "<dt><b>Development and Maintenance</b></dt>\n",
    "<dd><em>Do I have the skills to develop this? Can we sustainabily develop and maintain this?</em></dd>\n",
    "    \n",
    "One relatively flexible way of making tools available for use is through developing modular libraries or packages, which can be used as components in other software (which may, for example, add an additional user interface). By constructing modular software, not only can we focus on the core components we need and use for research, but we can build and version individual components separately.\n",
    "    \n",
    "By developing tools in high-level languages (e.g. Python, R, Julia) which do not need to be compiled, some of the complexity of learning and starting to write code is avoided. This allows researchers to relatively quickly build something which works, which can be further developed into a prototype or package.\n",
    "    \n",
    "<dt><b>Trust and Transparency</b></dt>\n",
    "<dd><em>How do I know this does what I expect? How do I know if this is a bug?</em></dd>\n",
    "\n",
    "Being open-source allows others to interrogate and debug a code base to understand how it works, and potentially contribute to bugfixes and patches where issues are identified.\n",
    "    \n",
    "A suite of automated tests which cover most of the code base can be used to demonstrate that most things are working as expected (at least for the expected use cases).\n",
    "    \n",
    "By attributing versions to successive releases, a consistent reference point is established for the identification of issues (e.g. \"there's a bug with plot colors in v1.2.0, but it was fixed for v1.2.1\"). A changelog is a useful addition to the documentation which effectively describes how the software evolves, at at which issues are identified and fixed.\n",
    "    \n",
    "One key advantage of building these tools at a community level, or at least in interaction with the community, is that outcomes of discussions around best-practise can be integrated into tools as defaults (and hence available without any additional effort from the user).\n",
    "    \n",
    "<dt><b>Accessibility and Documentation</b></dt>\n",
    "<dd><em>How do I install this? Can I contribute? Does it work on my operating system? How do I do X?</em></dd>\n",
    "\n",
    "Packaging code and publishing it in public repositories (e.g. PyPI for Python) allows for relatively straightforward installation. \n",
    "    \n",
    "Documentation is a key facilitator for adoption of software, and will also typically help with sustainable maintenance and development.\n",
    "    \n",
    "Developing modular packages in e.g. Python reduces changes of operating-system dependencies. Adding automated test suites which are run on multiple systems allows users more certainty around what potential issues might exist.\n",
    "\n",
    "<dt><b>Governance</b></dt>\n",
    "<dd><em>Who should have oversight? How do we encourage all parts of our community to contribute?</em></dd>\n",
    "    \n",
    "This is perhaps the key challenge for open-source projects, especially those developed by researchers. Typcially a project has a single maintainer, and potentially a number of contributors.\n",
    "    \n",
    "<dt><b>Recognition</b></dt>\n",
    "<dd><em>How do we assure that researchers, developers and technicians receive attribution/credit for this work?</em></dd>\n",
    "\n",
    "For this work to be sustainable, those developing research software should recieve appropriate recognition and have the opportunity to develop ongoing careers - but the commonly used metrics in academic research don't necessarily translate well for software. \n",
    "    \n",
    "While there are efforts towards increased software citation, there are open questions around how e.g. maintenance is recognised.\n",
    "</dl>"
   ]
  },
  {
   "cell_type": "markdown",
   "metadata": {},
   "source": [
    "## Development Workflow & Tools\n",
    "\n",
    "Given the requirements discussed above, below we highlight some of the key aspects of the development of research software, and some of the tools we've used to develop the packages we exhibit later. These incldue:\n",
    "* An open and accessible codebase\n",
    "* Versioning and packaging/deployment \n",
    "* Documentation\n",
    "* A test suite which covers most of the code\n",
    "* A platform for discussion and contribution"
   ]
  },
  {
   "cell_type": "markdown",
   "metadata": {},
   "source": [
    "### Leveraging The Scientific Python Ecosystem\n",
    "\n",
    "The scientific Python ecosystem is large and relatively mature; a wide variety of numerical, visualisation and utility packages exist which make for a solid foundation from which to build more specialised tools.\n",
    "\n",
    "``pyrolite`` and releated tools are built upon already-existing and widely used tools for working with tabluar data (e.g. [pandas](https://pandas.pydata.org/)<sup>[[1]](#mckinney)</sup>) and visualisation (e.g. [matplotlib](https://matplotlib.org/)<sup>[[2]](#hunter)</sup>). As a result generally follows their conventions and syntax, and also exposes exposes their API such that it can be readily accessed. In particular, the API makes use of dataframe accessor classes provided by ``pandas`` to add additional dataframe 'namespaces' (e.g. accessing the ``pyrolite`` spiderplot method via `df.pyroplot.spider()`). This approach allows ``pyrolite`` to use more familiar syntax, helping geochemists new to Python to hit the ground running, and encouraging development of transferable knowledge and skills.\n",
    "\n",
    "<sup>\n",
    "<p>\n",
    "<a id=\"hunter\">[1]</a>: McKinney, W., 2010. Data structures for statistical computing in python, in: van der Walt, S., Millman, J. (Eds.), Proceedings of the 9th Python in Science Conference. pp. 51–56.\n",
    "</p>\n",
    "<p>\n",
    "<a id=\"hunter\">[2]</a>: Hunter, J.D., 2007. Matplotlib: A 2D Graphics Environment. Comput. Sci. Eng. 9, 90–95. https://doi.org/10.1109/MCSE.2007.55\n",
    "</p>\n",
    "</sup>"
   ]
  },
  {
   "cell_type": "markdown",
   "metadata": {},
   "source": [
    "### Software Repositories and Packaging\n",
    "\n",
    "**Repositories**: All of the software projects are hosted in remote git repositories on [GitHub](https://github.com/), together with associated documentation and test suites. Using git repositories allows for managment of incremental changes to code and documentation, and in this case the GitHub repository also serves as a discussion board to identify issues and a point-of-contact for potential contriubtions.\n",
    "\n",
    "**Versions**: Named versions correspond to 'releases', where each release incorporates all the changes and bugfixes since the last. Naming conventions largely follow [semantic versioning guidelines](https://semver.org/), where version numbers such as v2.4.3 correspond to major (2), minor (4) and patch (3) versions.\n",
    "\n",
    "**Branches, Releases and Packaging**: Git repositories are arranged such that they have a 'stable' master branch which corresponds to the latest release, and a potentially 'unstable' development branch where ongoing work occurs. These projects use a ['gitflow' workflow](https://www.atlassian.com/git/tutorials/comparing-workflows/gitflow-workflow) to incorporate new changes into the next release. Once releases are generated, the repository is packaged and uploaded to the Python Package Index, [PyPI](https://pypi.org/), and typically an archive is created on [Zenodo](https://zenodo.org/), which then recieves a DOI such that each version is readily citable."
   ]
  },
  {
   "cell_type": "markdown",
   "metadata": {},
   "source": [
    "### Documentation\n",
    "\n",
    "The principal source of documentation for these packages in within the code itself - in the form of 'docstrings' which accompany each function and class, describing what they do, their inputs, outputs and where relevant appropriate references. From this, each time a new change is pushed to the repository, [Sphinx](https://www.sphinx-doc.org) is used to automatically generated a website (hosted on [readthedocs.org](https://readthedocs.org/)) which documents how the code is structured and how you can interact with it (or, the API).\n",
    "\n",
    "This is supplemented with manually-created examples and tutorials to demonstrate how to use the packages, which are generated form code each time the documentation is built, such that examples incorporate all new changes by default. Further, the page includes a changelog listing all notable changes and releases, along with information regarding development, citation and contributing.\n",
    "\n",
    "Finally, each branch (and version) has its own documentation, such that documentation largely keeps pace with the code base. For an example, see the [pyrolite documentation page](https://pyrolite.rtfd.io), one page of which is shown below:\n",
    "\n",
    "![pyrolite documentation page](img/rtfd.png)"
   ]
  },
  {
   "cell_type": "markdown",
   "metadata": {},
   "source": [
    "### Testing and Continuous Integration\n",
    "\n",
    "Each of the software project has an independent set of unit tests which systematically test the *expected* functionality of the code base.\n",
    "\n",
    "While these tests are useful for local development, they're also used as part of the on-push pipeline (this is typically referred to as continuous integration and deployment/delivery, or CI/CD), where services automatically run this suite of tests each time changes are pushed to the hosted repository ([Travis.org](https://travis-ci.org/) is used for these projects; e.g. see the [page for pyrolite](https://travis-ci.org/github/morganjwilliams/pyrolite)). In our case the tests are run for a specifed range of Python versions (similarly, a range of operating systems can be specified). In cases where tests fail, certain actions such as deployment or releases can be blocked.\n",
    "\n",
    "These services provide detailed information regarding test results and *test coverage*, which can be used as one metric for assessing test gaps. This information is collected as displayed by a separate service, [Coveralls](https://coveralls.io) where line-by-line test coverage can be assesed to identify targets for increasing test coverage."
   ]
  },
  {
   "cell_type": "markdown",
   "metadata": {},
   "source": [
    "### Community Platforms and Contribution\n",
    "\n",
    "``pyrolite`` and associated tools aim to be designed, developed and supported by the geochemistry community. For general chat, questions and debugging, we use [Gitter](https://gitter.im) (e.g. see the [channel for ``pyrolite``](https://gitter.im/pyrolite/community)), which nicely links to Issues and Pull Requests on GitHub for reference. This essentially serves as a searchable forum space, such that we can easily identify questions which appear repeatedly and improve the related documentation. GitHub serves as the centre of development activity for the project. It hosts an Issues board (for identifying bugs and issues, as well as requesting or discussing new features), and provides a foundation on which we can incorporate community contributions (e.g. via pull-request).\n",
    "\n",
    "Community contributions to help develop these projects into useful toolkits and resources are welcomed and encouraged (for both research and education purposes). Information regarding contributions (of various flavours, from bug reports and documentation through to code contributions or even whole features) are presented on the documentation websites (e.g. [pyrolite's](https://pyrolite.readthedocs.io/en/master/dev/contributing.html), along with a list of contributors and a Code of Conduct (which applies across the project generally; [see here](https://pyrolite.readthedocs.io/en/master/dev/conduct.html))."
   ]
  },
  {
   "cell_type": "markdown",
   "metadata": {},
   "source": [
    "### A Call Towards a Community Effort\n",
    "\n",
    "While we're all currently moving towards more digital approaches to our research, it would seem an opportune time to combine efforts and reduce potentially duplicated work through collaborative development of shared tools. Not only can we work towards improved standardisation and interoperatiblity, but we can incorporate best practises and modern data analysis tools into our software such that we make the most of our data. In an ideal world, a shared effort here might mean we can spend more of our time and money on the actual research, instrument maintenance, supporting technicians and researchers - but that may be a touch optimistic.\n",
    "\n",
    "There remain a variety of challenges to developing software in a research context, and while the solutions to some technical issues are often readily solved, challenges related to the community and developers will remain for some time. Software needs to be maintained to be sustained and to remain useful, and this is relatively human intensive (lest we be left with more bugs, less functional software and legacy issues). Approaching and discussing these challenges proactively would be a worthy investment to make such efforts more sustainable."
   ]
  },
  {
   "cell_type": "markdown",
   "metadata": {},
   "source": [
    "[**Abstract**](./00_overview.ipynb) | \n",
    "**Intro**:\n",
    "[Software in Geochem](./01_intro.ipynb#Software-in-Geochemistry),\n",
    "[Development & Tools](./01_intro.ipynb#Development-Workflow-&-Tools) |\n",
    "[**Examples**](./02_examples.ipynb):\n",
    "[pyrolite](./021_pyrolite.ipynb),\n",
    "[pyrolite-meltsutil](./022_pyrolite-meltsutil.ipynb),\n",
    "[interferences](./023_interferences.ipynb),\n",
    "[autopew](./024_autopew.ipynb)"
   ]
  }
 ],
 "metadata": {
  "kernelspec": {
   "display_name": "Python 3",
   "language": "python",
   "name": "python3"
  },
  "language_info": {
   "codemirror_mode": {
    "name": "ipython",
    "version": 3
   },
   "file_extension": ".py",
   "mimetype": "text/x-python",
   "name": "python",
   "nbconvert_exporter": "python",
   "pygments_lexer": "ipython3",
   "version": "3.7.4"
  }
 },
 "nbformat": 4,
 "nbformat_minor": 4
}
