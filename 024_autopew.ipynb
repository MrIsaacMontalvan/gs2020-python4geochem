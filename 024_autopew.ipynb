{
 "cells": [
  {
   "cell_type": "markdown",
   "metadata": {},
   "source": [
    "# Building Open Source Geochemical Research Tools in Python\n",
    "\n",
    "<span id='authors'><b>Morgan Williams</b>, Louise Schoneveld, Steve Barnes and Jens Klump;</span>\n",
    "<span id='affiliation'><em>CSIRO Mineral Resources</em></span>\n",
    "\n",
    "[**Abstract**](./00_overview.ipynb) | \n",
    "**Intro**:\n",
    "[Software in Geochem](./01_introduction.ipynb#Software-in-Geochemistry),\n",
    "[Development & Tools](./01_introduction.ipynb#Development-Workflow-&-Tools) |\n",
    "[**Examples**]((./02_examples.ipynb):\n",
    "[pyrolite](./021_pyrolite.ipynb),\n",
    "[pyrolite-meltsutil](./022_pyrolite-meltsutil.ipynb),\n",
    "[interferences](./023_interferences.ipynb),\n",
    "[autopew](./024_autopew.ipynb)"
   ]
  },
  {
   "cell_type": "markdown",
   "metadata": {},
   "source": [
    "## autopew\n",
    "\n",
    "[![Docs](https://readthedocs.org/projects/autopew/badge/?version=develop)](https://autopew.readthedocs.io/)\n",
    "   \n",
    ">  Automating sample targeting for geological microanalysis systems.\n",
    "\n",
    "\n",
    "|     |     | \n",
    "|:---:|:---:|\n",
    "| <img src=\"./img/Ref_1.png\" width=350px>  | <img src=\"./img/samplecoords_2.png\" width=350px>     |\n",
    "| A back-scattered electron image of a 25mm diameter round rock sample. The sample contains sulfide as the very bright phases and spinel in mid-grey tones. Three grains were used for reference coordinates and marked on the image. | Analysis locations can be chosen as pixel coordinates on the image. ``autopew`` allows for zoom and pan to allow extremely precise placement. This image was saved directly from autopew. |\n",
    "\n",
    "\n",
    "|    |\n",
    "|:--:|\n",
    "| <img src=\"./img/transpose_vis_2.png\" height=350px> |\n",
    "| The transformation can be visualised to quickly determine if it is reasonable or if more reference points are required. Here reference points used are circled, sample coordiantes are connected to their transformed equivalents, and a convex hull is used to illustrate the outer bounds of the coordinates used. Note the change in coordinate magnitudes and sign from the pixels (left) to stage coordinates (right). |"
   ]
  },
  {
   "cell_type": "markdown",
   "metadata": {},
   "source": [
    "[Repository](https://github.com/morganjwilliams/autopew)"
   ]
  },
  {
   "cell_type": "markdown",
   "metadata": {},
   "source": [
    "[**Abstract**](./00_overview.ipynb) | \n",
    "**Intro**:\n",
    "[Software in Geochem](./01_introduction.ipynb#Software-in-Geochemistry),\n",
    "[Development & Tools](./01_introduction.ipynb#Development-Workflow-&-Tools) |\n",
    "[**Examples**]((./02_examples.ipynb):\n",
    "[pyrolite](./021_pyrolite.ipynb),\n",
    "[pyrolite-meltsutil](./022_pyrolite-meltsutil.ipynb),\n",
    "[interferences](./023_interferences.ipynb),\n",
    "[autopew](./024_autopew.ipynb)"
   ]
  }
 ],
 "metadata": {
  "kernelspec": {
   "display_name": "Python 3",
   "language": "python",
   "name": "python3"
  },
  "language_info": {
   "codemirror_mode": {
    "name": "ipython",
    "version": 3
   },
   "file_extension": ".py",
   "mimetype": "text/x-python",
   "name": "python",
   "nbconvert_exporter": "python",
   "pygments_lexer": "ipython3",
   "version": "3.7.4"
  }
 },
 "nbformat": 4,
 "nbformat_minor": 4
}
