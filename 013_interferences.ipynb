{
 "cells": [
  {
   "cell_type": "markdown",
   "metadata": {},
   "source": [
    "# Building Open Source Geochemical Research Tools in Python\n",
    "\n",
    "<a href=\"https://doi.org/10.5281/zenodo.3874952\"><img src=\"https://zenodo.org/badge/DOI/10.5281/zenodo.3874952.svg\" align=\"right\" alt=\"doi: 10.5281/zenodo.3875779\" style=\"padding: 0px 10px 10px 0px\"></a>\n",
    "<a href=\"https://github.com/morganjwilliams/gs2020-python4geochem/blob/master/LICENSE\"><img src=\"https://img.shields.io/badge/License-MIT-blue.svg\" align=\"right\" alt=\"License: MIT\" style=\"padding: 0px 10px 10px 0px\"></a>\n",
    "\n",
    "<span id='authors'><b>Morgan Williams <a class=\"fa fa-twitter\" aria-hidden=\"true\" href=\"https://twitter.com/metasomite\" title=\"@metasomite\"></a></b>, Louise Schoneveld, Steve Barnes and Jens Klump; </span>\n",
    "<span id='affiliation'><em>CSIRO Mineral Resources</em></span>\n",
    "\n",
    "### Contents\n",
    "\n",
    "| [**Abstract**](./00_overview.ipynb) | **Introduction**  | [**Examples**](./00_overview.ipynb#Examples)  |\n",
    "|:-----|:-----|:-----|\n",
    "|  | [Software in Geochem](./01_intro.ipynb#Software-in-Geochemistry)  |  [pyrolite](./011_pyrolite.ipynb)  |\n",
    "|  | [Development & Tools](./01_intro.ipynb#Development-Workflow-&-Tools) | [pyrolite-meltsutil](./012_pyrolite-meltsutil.ipynb) | \n",
    "|  |  | [interferences](./013_interferences.ipynb) | \n",
    "|  |  | [autopew](./014_autopew.ipynb) |  "
   ]
  },
  {
   "cell_type": "markdown",
   "metadata": {},
   "source": [
    "## interferences\n",
    "\n",
    ">  Tools for inorganic mass spectra and interference patterns.\n",
    "\n",
    "[![Docs](https://readthedocs.org/projects/interferences/badge/?version=develop)](https://interferences.readthedocs.io/)"
   ]
  },
  {
   "cell_type": "markdown",
   "metadata": {},
   "source": [
    "This is an under-development package to facilitate debugging and identification of\n",
    "issues during method development and analysis of novel samples for geologically-focused\n",
    "mass spectrometry."
   ]
  },
  {
   "cell_type": "markdown",
   "metadata": {},
   "source": [
    "``interferences`` is centred around building tables which contain sets of molecular ions corresponding to a specific set of elements within your analytical target. Building the tables themselves is relatively straightforward. For examples, to build a table of ions which might be expected from Ca, O, Ar and H with a charge of +1 and up to two atoms within a molecule, you could use:"
   ]
  },
  {
   "cell_type": "markdown",
   "metadata": {},
   "source": [
    "```python\n",
    "df = build_table([\"Ca\", \"O\", \"Ar\", \"H\"], charges=[1], max_atoms=2)\n",
    "```"
   ]
  },
  {
   "cell_type": "markdown",
   "metadata": {},
   "source": [
    "These tables can then be displayed graphically, with a rudimentary estimate of relative abundance shown. Currently, ``interferences`` has two such methods, ``stemplot`` and ``spectra``. The first simply illustates the relative position of peaks (in m/z), while the second attempts to represent the width of some of these mass peaks given a specified mass resolution."
   ]
  },
  {
   "cell_type": "code",
   "execution_count": null,
   "metadata": {},
   "outputs": [],
   "source": [
    "import pandas as pd\n",
    "import numpy as np\n",
    "from interferences.table import build_table\n",
    "import matplotlib.pyplot as plt\n",
    "from pyrolite.geochem.ind import REE"
   ]
  },
  {
   "cell_type": "code",
   "execution_count": null,
   "metadata": {},
   "outputs": [],
   "source": [
    "window = (\"Tm[169]\", 0.1)\n",
    "df = build_table(REE() + [\"O\", \"N\", \"H\"], window=window, max_atoms=2)\n",
    "ax = df.mz.stemplot(window=window, max_labels=5, figsize=(8, 4))\n",
    "ax.figure.suptitle('stemplot: Tm Interferences')\n",
    "plt.show()"
   ]
  },
  {
   "cell_type": "code",
   "execution_count": null,
   "metadata": {},
   "outputs": [],
   "source": [
    "window = (\"B[10]O[16]\", 0.05)\n",
    "df = build_table([\"C\", \"B\", \"N\", \"O\"], window=window, max_atoms=2)\n",
    "ax = df.mz.spectra(window=window, mass_resolution=3000, max_labels=5, figsize=(8, 4))\n",
    "ax.figure.suptitle('spectra: Cyanide BO Interference')\n",
    "plt.show()"
   ]
  },
  {
   "cell_type": "markdown",
   "metadata": {},
   "source": [
    "We've included some interactive examples below, if you'd like to play around with some of these without getting into the code itself. Note that it takes a second or two to run and refresh on these servers."
   ]
  },
  {
   "cell_type": "code",
   "execution_count": null,
   "metadata": {},
   "outputs": [],
   "source": [
    "import ipywidgets as widgets\n",
    "#interact_manual = widgets.interact.options(manual=True, manual_name=\"Build Plot\")"
   ]
  },
  {
   "cell_type": "code",
   "execution_count": null,
   "metadata": {},
   "outputs": [],
   "source": [
    "def show_table(elements=[],\n",
    "              window1=None,\n",
    "              window2=0.05,\n",
    "              max_atoms=2,\n",
    "              max_charge=2):\n",
    "    try:\n",
    "\n",
    "        elements = [el.strip() for el in elements.strip(',').split(',')]\n",
    "\n",
    "        if window1:\n",
    "             window = (window1, window2)\n",
    "        else:\n",
    "            window=None\n",
    "        df = build_table(elements,\n",
    "                         window=window,\n",
    "                         max_atoms=max_atoms,\n",
    "                         charges=[i+1 for i in range(max_charge)])\n",
    "        print(\"Table size: {}\".format(df.index.size))\n",
    "        display(df.style.background_gradient(cmap=\"Blues\",\n",
    "                                             axis=0,\n",
    "                                             subset=pd.IndexSlice[:, ['iso_product']])\n",
    "               )\n",
    "    except:\n",
    "        pass\n",
    "mode= widgets.ToggleButtons(options=['spectra','stemplot'], value='spectra', description='Mode:')\n",
    "elements=widgets.Text(value=\"C,B,N,O\",description='Elements:')\n",
    "max_atoms=widgets.IntSlider(min=1, max=3, step=1, value=2,\n",
    "                            description='Atoms:', continuous_update=False)\n",
    "max_charge=widgets.IntSlider(min=1, max=3, step=1, value=2,\n",
    "                             description='Max Charge:', continuous_update=False )\n",
    "\n",
    "window1=widgets.Text(value=\"B[10]O[16]\", description='Target:')\n",
    "window2=widgets.FloatLogSlider(min=-2, max=np.log10(2), step=0.1, value=0.05,\n",
    "                               description='Mass Width', continuous_update=False)\n",
    "mass_resolution=widgets.IntSlider(min=500, max=10000, step=1000, value=3000,\n",
    "                                  description='Resolution:', continuous_update=False)\n",
    "image_ratio = widgets.FloatSlider(min=0, max=1.5, step=0.1, value=0.5,\n",
    "                                  description='Image Ratio:', continuous_update=False)\n",
    "\n",
    "\n",
    "tableui = widgets.VBox([widgets.HTML(value=\"<h3>Table Generator</h3>\"),\n",
    "                        widgets.HBox([widgets.VBox([elements, max_atoms, max_charge]),\n",
    "                                       widgets.VBox([window1, window2])\n",
    "                                     ])])\n",
    "\n",
    "tableout = widgets.interactive_output(show_table, {\n",
    "                                     'elements': elements, \n",
    "                                     'max_atoms': max_atoms,\n",
    "                                     'max_charge': max_charge, \n",
    "                                     'window1': window1, \n",
    "                                     'window2': window2\n",
    "                                })\n",
    "tableout.layout.width='500px'\n",
    "display(tableui, tableout)"
   ]
  },
  {
   "cell_type": "markdown",
   "metadata": {},
   "source": [
    "--------"
   ]
  },
  {
   "cell_type": "code",
   "execution_count": null,
   "metadata": {},
   "outputs": [],
   "source": [
    "def plot_function(elements=[],\n",
    "                  window1=None,\n",
    "                  window2=0.05,\n",
    "                  max_atoms=2,\n",
    "                  max_charge=2,\n",
    "                  mass_resolution=3000,\n",
    "                  image_ratio=0,\n",
    "                  n_labels=2):\n",
    "    try:\n",
    "        elements = [el.strip() for el in elements.strip(',').split(',')]\n",
    "        window = (window1, window2)\n",
    "        df = build_table(elements,\n",
    "                         window=window,\n",
    "                         max_atoms=max_atoms,\n",
    "                         charges=[i+1 for i in range(max_charge)])\n",
    "        ax = df.mz.spectra(window=window,\n",
    "                               mass_resolution=mass_resolution,\n",
    "                               image_ratio=image_ratio, \n",
    "                               max_labels=n_labels, \n",
    "                               figsize=(8, 4),\n",
    "                              iter_lim=10)\n",
    "    except:\n",
    "        pass\n",
    "\n",
    "elements=widgets.Text(value=\"C,B,N,O\",description='Elements:')\n",
    "max_atoms=widgets.IntSlider(min=1, max=3, step=1, value=2,\n",
    "                            description='Atoms:', continuous_update=False)\n",
    "max_charge=widgets.IntSlider(min=1, max=3, step=1, value=2,\n",
    "                             description='Max Charge:', continuous_update=False )\n",
    "n_labels= widgets.IntSlider(min=0, max=5, step=1, value=4,\n",
    "                             description='# Labels:', continuous_update=False )\n",
    "\n",
    "\n",
    "window1=widgets.Text(value=\"B[10]O[16]\", description='Target:')\n",
    "window2=widgets.FloatLogSlider(min=-2, max=0, step=0.1, value=0.05,\n",
    "                               description='Mass Width', continuous_update=False)\n",
    "mass_resolution=widgets.IntSlider(min=1000, max=15000, step=2000, value=3000,\n",
    "                                  description='Resolution:', continuous_update=False)\n",
    "image_ratio = widgets.FloatSlider(min=0, max=1.5, step=0.1, value=0.5,\n",
    "                                  description='Image Ratio:', continuous_update=False)\n",
    "\n",
    "ui = widgets.VBox([widgets.HTML(value=\"<h3>Spectra Generator</h3>\"),\n",
    "                   widgets.HBox([\n",
    "                           widgets.VBox([elements, max_atoms, max_charge, n_labels]),\n",
    "                           widgets.VBox([window1, window2, mass_resolution, image_ratio])\n",
    "                   ])\n",
    "                  ])\n",
    "\n",
    "out = widgets.interactive_output(plot_function, {'n_labels': n_labels, \n",
    "                                     'elements': elements, \n",
    "                                     'max_atoms': max_atoms,\n",
    "                                     'max_charge': max_charge, \n",
    "                                     'window1': window1, \n",
    "                                     'window2': window2,\n",
    "                                     'mass_resolution': mass_resolution,\n",
    "                                     'image_ratio' :image_ratio\n",
    "                                })\n",
    "out.layout.height = '350px'\n",
    "\n",
    "display(ui, out)"
   ]
  },
  {
   "cell_type": "markdown",
   "metadata": {},
   "source": [
    "If you're interested in seeing some more of this, check out the [documentation](https://interferences.readthedocs.io/) or [repository](https://github.com/morganjwilliams/interferences)."
   ]
  },
  {
   "cell_type": "markdown",
   "metadata": {},
   "source": [
    "-----\n",
    "\n",
    "| [**Abstract**](./00_overview.ipynb) | **Introduction**  | [**Examples**](./00_overview.ipynb#Examples)  |\n",
    "|:-----|:-----|:-----|\n",
    "|  | [Software in Geochem](./01_intro.ipynb#Software-in-Geochemistry)  |  [pyrolite](./011_pyrolite.ipynb)  |\n",
    "|  | [Development & Tools](./01_intro.ipynb#Development-Workflow-&-Tools) | [pyrolite-meltsutil](./012_pyrolite-meltsutil.ipynb) | \n",
    "|  |  | [interferences](./013_interferences.ipynb) | \n",
    "|  |  | [autopew](./014_autopew.ipynb) |  "
   ]
  }
 ],
 "metadata": {
  "kernelspec": {
   "display_name": "Python 3",
   "language": "python",
   "name": "python3"
  },
  "language_info": {
   "codemirror_mode": {
    "name": "ipython",
    "version": 3
   },
   "file_extension": ".py",
   "mimetype": "text/x-python",
   "name": "python",
   "nbconvert_exporter": "python",
   "pygments_lexer": "ipython3",
   "version": "3.7.4"
  }
 },
 "nbformat": 4,
 "nbformat_minor": 4
}
