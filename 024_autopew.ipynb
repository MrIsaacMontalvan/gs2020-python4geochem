{
 "cells": [
  {
   "cell_type": "markdown",
   "metadata": {},
   "source": [
    "# Building Open Source Geochemical Research Tools in Python\n",
    "\n",
    "<span id='authors'><b>Morgan Williams</b>, Louise Schoneveld, Steve Barnes and Jens Klump;</span>\n",
    "<span id='affiliation'><em>CSIRO Mineral Resources</em></span>\n",
    "\n",
    "[**Abstract**](./00_overview.ipynb) | \n",
    "**Intro**:\n",
    "[Software in Geochem](./01_introduction.ipynb#Software-in-Geochemistry),\n",
    "[Development & Tools](./01_introduction.ipynb#Development-Workflow-&-Tools) | \n",
    "[**Examples**]((./02_examples.ipynb):\n",
    "[pyrolite](./021_pyrolite.ipynb),\n",
    "[pyrolite-meltsutil](./022_pyrolite-meltsutil.ipynb),\n",
    "[interferences](./023_interferences.ipynb),\n",
    "[autopew](./024_autopew.ipynb) |\n",
    "[**Community**](./03_community.ipynb) "
   ]
  },
  {
   "cell_type": "markdown",
   "metadata": {},
   "source": [
    "## autopew\n",
    "\n",
    "[![Docs](https://readthedocs.org/projects/autopew/badge/?version=develop)](https://autopew.readthedocs.io/)\n",
    "   \n",
    ">  Automating sample targeting for geological microanalysis systems."
   ]
  },
  {
   "cell_type": "markdown",
   "metadata": {},
   "source": [
    "[Repository](https://github.com/morganjwilliams/autopew)"
   ]
  },
  {
   "cell_type": "markdown",
   "metadata": {},
   "source": [
    "[**Abstract**](./00_overview.ipynb) | \n",
    "**Intro**:\n",
    "[Software in Geochem](./01_introduction.ipynb#Software-in-Geochemistry),\n",
    "[Development & Tools](./01_introduction.ipynb#Development-Workflow-&-Tools) | \n",
    "[**Examples**]((./02_examples.ipynb):\n",
    "[pyrolite](./021_pyrolite.ipynb),\n",
    "[pyrolite-meltsutil](./022_pyrolite-meltsutil.ipynb),\n",
    "[interferences](./023_interferences.ipynb),\n",
    "[autopew](./024_autopew.ipynb) |\n",
    "[**Community**](./03_community.ipynb) "
   ]
  }
 ],
 "metadata": {
  "kernelspec": {
   "display_name": "Python 3",
   "language": "python",
   "name": "python3"
  },
  "language_info": {
   "codemirror_mode": {
    "name": "ipython",
    "version": 3
   },
   "file_extension": ".py",
   "mimetype": "text/x-python",
   "name": "python",
   "nbconvert_exporter": "python",
   "pygments_lexer": "ipython3",
   "version": "3.7.4"
  }
 },
 "nbformat": 4,
 "nbformat_minor": 4
}
