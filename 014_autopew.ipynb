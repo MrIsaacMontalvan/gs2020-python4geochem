{
 "cells": [
  {
   "cell_type": "markdown",
   "metadata": {},
   "source": [
    "# Building Open Source Geochemical Research Tools in Python\n",
    "\n",
    "<a href=\"https://doi.org/10.5281/zenodo.3874952\"><img src=\"https://zenodo.org/badge/DOI/10.5281/zenodo.3874952.svg\" align=\"right\" alt=\"doi: 10.5281/zenodo.3875779\" style=\"padding: 0px 10px 10px 0px\"></a>\n",
    "<a href=\"https://github.com/morganjwilliams/gs2020-python4geochem/blob/master/LICENSE\"><img src=\"https://img.shields.io/badge/License-MIT-blue.svg\" align=\"right\" alt=\"License: MIT\" style=\"padding: 0px 10px 10px 0px\"></a>\n",
    "\n",
    "<span id='authors'><b>Morgan Williams <a class=\"fa fa-twitter\" aria-hidden=\"true\" href=\"https://twitter.com/metasomite\" title=\"@metasomite\"></a></b>, Louise Schoneveld, Steve Barnes and Jens Klump; </span>\n",
    "<span id='affiliation'><em>CSIRO Mineral Resources</em></span>\n",
    "\n",
    "### Contents\n",
    "\n",
    "| [**Abstract**](./00_overview.ipynb) | **Introduction**  | [**Examples**](./00_overview.ipynb#Examples)  |\n",
    "|:-----|:-----|:-----|\n",
    "|  | [Software in Geochem](./00_overview.ipynb#Software-in-Geochemistry)  |  [pyrolite](./011_pyrolite.ipynb)  |\n",
    "|  | [Development & Tools](./00_overview.ipynb#Development-Workflow-&-Tools) | [pyrolite-meltsutil](./012_pyrolite-meltsutil.ipynb) | \n",
    "|  |  | [interferences](./013_interferences.ipynb) | \n",
    "|  |  | [autopew](./014_autopew.ipynb) |  "
   ]
  },
  {
   "cell_type": "markdown",
   "metadata": {},
   "source": [
    "## autopew\n",
    "\n",
    "[![Docs](https://readthedocs.org/projects/autopew/badge/?version=develop)](https://autopew.readthedocs.io/)\n",
    "   \n",
    ">  Automating sample targeting for geological microanalysis systems.\n",
    "\n",
    "\n",
    "|     |     | \n",
    "|:---:|:---:|\n",
    "| <img src=\"./img/Ref_1.png\" width=350px>  | <img src=\"./img/samplecoords_2.png\" width=350px>     |\n",
    "| A back-scattered electron image of a 25mm diameter round rock sample. The sample contains sulfide as the very bright phases and spinel in mid-grey tones. Three grains were used for reference coordinates and marked on the image. | Analysis locations can be chosen as pixel coordinates on the image. ``autopew`` allows for zoom and pan to allow extremely precise placement. This image was saved directly from autopew. |\n",
    "\n",
    "\n",
    "|    |\n",
    "|:--:|\n",
    "| <img src=\"./img/transpose_vis_2.png\" height=350px> |\n",
    "| The transformation can be visualised to quickly determine if it is reasonable or if more reference points are required. Here reference points used are circled, sample coordiantes are connected to their transformed quivalents, and a convex hull is used to illustrate the outer bounds of the coordinates used. Note the change in coordinate magnitudes and sign from the pixels (left) to stage coordinates (right). |"
   ]
  },
  {
   "cell_type": "markdown",
   "metadata": {},
   "source": [
    "------\n",
    "\n",
    "| [**Abstract**](./00_overview.ipynb) | **Introduction**  | [**Examples**](./00_overview.ipynb#Examples)  |\n",
    "|:-----|:-----|:-----|\n",
    "|  | [Software in Geochem](./00_overview.ipynb#Software-in-Geochemistry)  |  [pyrolite](./011_pyrolite.ipynb)  |\n",
    "|  | [Development & Tools](./00_overview.ipynb#Development-Workflow-&-Tools) | [pyrolite-meltsutil](./012_pyrolite-meltsutil.ipynb) | \n",
    "|  |  | [interferences](./013_interferences.ipynb) | \n",
    "|  |  | [autopew](./014_autopew.ipynb) |  "
   ]
  }
 ],
 "metadata": {
  "kernelspec": {
   "display_name": "Python 3",
   "language": "python",
   "name": "python3"
  },
  "language_info": {
   "codemirror_mode": {
    "name": "ipython",
    "version": 3
   },
   "file_extension": ".py",
   "mimetype": "text/x-python",
   "name": "python",
   "nbconvert_exporter": "python",
   "pygments_lexer": "ipython3",
   "version": "3.7.4"
  }
 },
 "nbformat": 4,
 "nbformat_minor": 4
}
