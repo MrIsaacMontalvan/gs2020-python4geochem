{
 "cells": [
  {
   "cell_type": "code",
   "execution_count": null,
   "metadata": {},
   "outputs": [],
   "source": [
    "%matplotlib widget\n",
    "import numpy as np\n",
    "import matplotlib.pyplot as plt\n",
    "from util import render_audio_sample"
   ]
  },
  {
   "cell_type": "markdown",
   "metadata": {},
   "source": [
    "# Building Open Source Geochemical Research Tools in Python\n",
    "\n",
    "<span id='authors'><b>Morgan Williams</b>, Louise Schoneveld, Steve Barnes and Jens Klump;</span>\n",
    "<span id='affiliation'><em>CSIRO Mineral Resources</em></span>\n",
    "\n",
    "[**Abstract**](/voila/render/00_overview.ipynb) | \n",
    "**Intro:**\n",
    "[Software in Geochemistry](/voila/render/01_introduction.ipynb#Software-in-Geochemistry),\n",
    "[Development Workflow & Tools](/voila/render/01_introduction.ipynb#Development-Workflow-&-Tools) | \n",
    "**Examples:** \n",
    "[pyrolite](/voila/render/02_examples.ipynb#pyrolite),\n",
    "[pyrolite-meltsutil](/voila/render/02_examples.ipynb#pyrolite-meltsutil),\n",
    "[interferences](/voila/render/02_examples.ipynb#interferences),\n",
    "[autopew](/voila/render/02_examples.ipynb#autopew) |\n",
    "[**Community**](/voila/render/03_community.ipynb) "
   ]
  },
  {
   "cell_type": "markdown",
   "metadata": {},
   "source": [
    "This is a Binder-enabled repository to accompany the abstract [\"Building Open Source\n",
    "Geochemical Research Tools in Python\"](\n",
    "https://goldschmidt.info/2020/abstracts/abstractView?id=2020003661)\n",
    "for [Goldschmidt 2020 Session 06d](\n",
    "https://goldschmidt.info/2020/program/programViewThemes#period_472_4728_12337)\n",
    "(Information, Innovation, and Knowledge in Microanalytical Mass Spectrometry;\n",
    "12:30-13:30 Thursday June 25 AWST/ 18:30-19:30 Wednesday June 24 HST).y\n",
    "Science; 13:45-14:45 Thursday June 25 AWST / 19:45-20:45 Wednesday June 24 HST).\n",
    "\n",
    "To view the un-rendered notebooks, have a look at the [repository on GitHub](https://github.com/morganjwilliams/gs2020-python4geochem)."
   ]
  },
  {
   "cell_type": "markdown",
   "metadata": {},
   "source": [
    "## Abstract \n",
    "\n",
    "While the geochemistry community is transitioning to more open, reproducible and collaborative science practices, effective tools to facilitate this transition remain few in number. Here we describe a number of geochemistry-focused open source Python packages at various stages of development, and highlight some of the software development practises and tools we have used to build them.\n",
    "\n",
    "Of these, the most advanced is pyrolite, a Python package built to facilitate data-driven understanding of geological processes using multivariate geochemical data. The core features of this package include functions for transforming geochemical data and visualisation (including ternary, spider and density diagrams). Other under-development tools include utilities for transformation of image and stage coordinates to allow reproducible positioning between instruments, a simple tool for predicting molecular ion interferences from and a pyrolite extension linking compositions to alphaMELTS models. Each of these software projects are co-developed with their documentation and integrated test suites. Online documentation is updated and versioned with the software, and includes a set of examples for key features.\n",
    "These tools are developed for and by the geochemistry community, and are both freely available and released under an unrestrictive license. Questions and all forms of user contributions are welcomed (e.g. code, documentation, bug reports and feature requests). We hope these tools will contribute to enabling better geochemical research practices, and potentially even establishing common workflows for geochemical data processing and analysis within the user community.\n",
    "\n",
    "A programmatic approach has distinct advantages over spreadsheet-based tools, and can result in improved transparency and traceability of results. The scientific Python ecosystem provides a solid foundation for prototyping, developing and interlinking tools from data processing through to modelling and machine learning. Tools can be extended with user interfaces and optimised for performance where needed. Where accessibility is kept in mind, developing tools in Python, and designing packages to be re-used and integrated into existing scientific workflows can improve efficiency and reproducibility while enabling geoscientists to develop transferable digital skills."
   ]
  }
 ],
 "metadata": {
  "kernelspec": {
   "display_name": "Python 3",
   "language": "python",
   "name": "python3"
  },
  "language_info": {
   "codemirror_mode": {
    "name": "ipython",
    "version": 3
   },
   "file_extension": ".py",
   "mimetype": "text/x-python",
   "name": "python",
   "nbconvert_exporter": "python",
   "pygments_lexer": "ipython3",
   "version": "3.7.4"
  }
 },
 "nbformat": 4,
 "nbformat_minor": 4
}
