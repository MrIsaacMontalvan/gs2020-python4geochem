{
 "cells": [
  {
   "cell_type": "markdown",
   "metadata": {},
   "source": [
    "# Building Open Source Geochemical Research Tools in Python\n",
    "\n",
    "<span id='authors'><b>Morgan Williams</b>, Louise Schoneveld, Steve Barnes and Jens Klump;</span>\n",
    "<span id='affiliation'><em>CSIRO Mineral Resources</em></span>\n",
    "\n",
    "[**Abstract**](/voila/render/00_overview.ipynb) | \n",
    "**Intro**:\n",
    "[Software in Geochem](/voila/render/01_introduction.ipynb#Software-in-Geochemistry),\n",
    "[Development & Tools](/voila/render/01_introduction.ipynb#Development-Workflow-&-Tools) | \n",
    "[**Examples**]((/voila/render/02_examples.ipynb):\n",
    "[pyrolite](/voila/render/021_pyrolite.ipynb),\n",
    "[pyrolite-meltsutil](/voila/render/022_pyrolite-meltsutil.ipynb),\n",
    "[interferences](/voila/render/023_interferences.ipynb),\n",
    "[autopew](/voila/render/024_autopew.ipynb) |\n",
    "[**Community**](/voila/render/03_community.ipynb) "
   ]
  },
  {
   "cell_type": "markdown",
   "metadata": {},
   "source": [
    "## Software in Geochemistry"
   ]
  },
  {
   "cell_type": "markdown",
   "metadata": {},
   "source": [
    "### Reproducible Science"
   ]
  },
  {
   "cell_type": "markdown",
   "metadata": {},
   "source": [
    "### A Programattic Approach"
   ]
  },
  {
   "cell_type": "markdown",
   "metadata": {},
   "source": [
    "## Development Workflow & Tools"
   ]
  },
  {
   "cell_type": "markdown",
   "metadata": {},
   "source": [
    "[**Abstract**](/voila/render/00_overview.ipynb) | \n",
    "**Intro**:\n",
    "[Software in Geochem](/voila/render/01_introduction.ipynb#Software-in-Geochemistry),\n",
    "[Development & Tools](/voila/render/01_introduction.ipynb#Development-Workflow-&-Tools) | \n",
    "[**Examples**]((/voila/render/02_examples.ipynb):\n",
    "[pyrolite](/voila/render/021_pyrolite.ipynb),\n",
    "[pyrolite-meltsutil](/voila/render/022_pyrolite-meltsutil.ipynb),\n",
    "[interferences](/voila/render/023_interferences.ipynb),\n",
    "[autopew](/voila/render/024_autopew.ipynb) |\n",
    "[**Community**](/voila/render/03_community.ipynb) "
   ]
  }
 ],
 "metadata": {
  "kernelspec": {
   "display_name": "Python 3",
   "language": "python",
   "name": "python3"
  },
  "language_info": {
   "codemirror_mode": {
    "name": "ipython",
    "version": 3
   },
   "file_extension": ".py",
   "mimetype": "text/x-python",
   "name": "python",
   "nbconvert_exporter": "python",
   "pygments_lexer": "ipython3",
   "version": "3.7.4"
  }
 },
 "nbformat": 4,
 "nbformat_minor": 4
}
