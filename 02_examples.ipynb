{
 "cells": [
  {
   "cell_type": "markdown",
   "metadata": {},
   "source": [
    "# Building Open Source Geochemical Research Tools in Python\n",
    "\n",
    "<span id='authors'><b>Morgan Williams</b>, Louise Schoneveld, Steve Barnes and Jens Klump;</span>\n",
    "<span id='affiliation'><em>CSIRO Mineral Resources</em></span>\n",
    "\n",
    "[**Abstract**](/voila/render/00_overview.ipynb) | \n",
    "**Intro:**\n",
    "[Software in Geochemistry](/voila/render/01_introduction.ipynb#Software-in-Geochemistry),\n",
    "[Development Workflow & Tools](/voila/render/01_introduction.ipynb#Development-Workflow-&-Tools) | \n",
    "**Examples:** \n",
    "[pyrolite](/voila/render/02_examples.ipynb#pyrolite),\n",
    "[pyrolite-meltsutil](/voila/render/02_examples.ipynb#pyrolite-meltsutil),\n",
    "[interferences](/voila/render/02_examples.ipynb#interferences),\n",
    "[autopew](/voila/render/02_examples.ipynb#autopew) |\n",
    "[**Community**](/voila/render/03_community.ipynb) "
   ]
  },
  {
   "cell_type": "markdown",
   "metadata": {},
   "source": [
    "## pyrolite"
   ]
  },
  {
   "cell_type": "markdown",
   "metadata": {},
   "source": [
    "## pyrolite-meltsutil"
   ]
  },
  {
   "cell_type": "markdown",
   "metadata": {},
   "source": [
    "## interferences"
   ]
  },
  {
   "cell_type": "markdown",
   "metadata": {},
   "source": [
    "## autopew"
   ]
  },
  {
   "cell_type": "code",
   "execution_count": null,
   "metadata": {},
   "outputs": [],
   "source": []
  }
 ],
 "metadata": {
  "kernelspec": {
   "display_name": "Python 3",
   "language": "python",
   "name": "python3"
  },
  "language_info": {
   "codemirror_mode": {
    "name": "ipython",
    "version": 3
   },
   "file_extension": ".py",
   "mimetype": "text/x-python",
   "name": "python",
   "nbconvert_exporter": "python",
   "pygments_lexer": "ipython3",
   "version": "3.7.4"
  }
 },
 "nbformat": 4,
 "nbformat_minor": 4
}
