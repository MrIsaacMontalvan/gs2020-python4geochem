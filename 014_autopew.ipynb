{
 "cells": [
  {
   "cell_type": "markdown",
   "metadata": {},
   "source": [
    "# Building Open Source Geochemical Research Tools in Python\n",
    "\n",
    "<a href=\"https://doi.org/10.5281/zenodo.3874952\"><img src=\"https://zenodo.org/badge/DOI/10.5281/zenodo.3874952.svg\" align=\"right\" alt=\"doi: 10.5281/zenodo.3875779\" style=\"padding: 0px 10px 10px 0px\"></a>\n",
    "<a href=\"https://github.com/morganjwilliams/gs2020-python4geochem/blob/master/LICENSE\"><img src=\"https://img.shields.io/badge/License-MIT-blue.svg\" align=\"right\" alt=\"License: MIT\" style=\"padding: 0px 10px 10px 0px\"></a>\n",
    "\n",
    "<span id='authors'><b>Morgan Williams <a class=\"fa fa-twitter\" aria-hidden=\"true\" href=\"https://twitter.com/metasomite\" title=\"@metasomite\"></a></b>, Louise Schoneveld, Steve Barnes and Jens Klump; </span>\n",
    "<span id='affiliation'><em>CSIRO Mineral Resources</em></span>\n",
    "\n",
    "### Contents\n",
    "\n",
    "| [**Abstract**](./00_overview.ipynb) | **Introduction**  | [**Examples**](./00_overview.ipynb#Examples)  |\n",
    "|:-----|:-----|:-----|\n",
    "|  | [Software in Geochem](./00_overview.ipynb#Software-in-Geochemistry)  |  [pyrolite](./011_pyrolite.ipynb)  |\n",
    "|  | [Development & Tools](./00_overview.ipynb#Development-Workflow-&-Tools) | [pyrolite-meltsutil](./012_pyrolite-meltsutil.ipynb) | \n",
    "|  |  | [interferences](./013_interferences.ipynb) | \n",
    "|  |  | [autopew](./014_autopew.ipynb) |  "
   ]
  },
  {
   "cell_type": "markdown",
   "metadata": {},
   "source": [
    "## autopew\n",
    "\n",
    "[![Docs](https://readthedocs.org/projects/autopew/badge/?version=develop)](https://autopew.readthedocs.io/)\n",
    "   \n",
    ">  Automating sample targeting for geological microanalysis systems.\n",
    "\n",
    "`autopew` is designed for arbitrary translation between planar/2D Cartesian coordinate systems using affine transforms and human-in-the-loop workflows.\n",
    "\n",
    "This is applied to integrating coordinate systems across analytical instrumentation, with each instrument typically having its own individual coordinate systems based on imagery and/or a sample stage. autopew also includes functions for importing and exporting files, for automated generation of point sets within a relevant format for each piece of analytical instrumentation. For example, `autopew` outputs currently included a `.scancsv` file which can be directly imported into Chromium laser ablation navigation software.\n",
    "\n",
    "### Why use autopew?\n",
    "\n",
    "`autopew` is designed for easy referencing between analytical equipment and/or images. This allows the time spend on analytical equipment to be more effectively used for data collection rather than spending valuable time locating the areas of interest (at least where this functionality doesn't already exist). Although primarily designed for use of laser ablation analysis on geological material this software can be used for any microanalytical technique, including electron microprobe analysis, x-ray fluorescence mapping, scanning electron microscopy and ion beam analysis.\n",
    "\n",
    "### What does it look like?\n",
    "\n",
    "|<img src=\"./img/Ref_1.png\" width=350px> |<img src=\"./img/samplecoords_2.png\" width=350px> | \n",
    "|:---:|:---:|\n",
    "| A back-scattered electron image of a 25mm diameter round rock sample. The sample contains sulfide as the very bright phases and spinel in mid-grey tones. Three grains were used for reference coordinates and marked on the image. | Analysis locations can be chosen as pixel coordinates on the image. ``autopew`` allows for zoom and pan to allow extremely precise placement. This image was saved directly from autopew. |\n",
    "\n",
    "\n",
    "| <img src=\"./img/transpose_vis_2.png\" height=350px> |\n",
    "|:--:|\n",
    "| The transformation can be visualized to quickly determine if it is reasonable or if more reference points are required. Here reference points used are circled, sample coordinates are connected to their transformed equivalents, and a convex hull is used to illustrate the outer bounds of the coordinates used. Note the change in coordinate magnitudes and sign from the pixels (left) to stage coordinates (right). |\n",
    "\n",
    "### Where might this go?\n",
    "\n",
    "* **Microanalytical Coordinate System Networks**\n",
    "\n",
    "    One idea for the future of `autopew` is creating and storing information about coordinate systems and transformations betwen them. Through creating connected networks of coordinate systems, the spatial context of analysis across instruments and images can be automatically determined through aggregating or propogating the transformations.\n",
    "\n",
    "| <img src=\"https://autopew.readthedocs.io/en/develop/_images/transform_concept.png\" width=\"50%\">\n",
    "|:---:|\n",
    "| Illustrative example of a coordinate system network and propagation of coordinates from an EPMA image to produce coordinates for a LA-ICP-MS stage after transformations have been calibrated (red path).|\n",
    "\n",
    "* **Generating Outputs for a Variety of Instruments**\n",
    "\n",
    "    Currently `autopew` enables export of coordinates in a few simple formats, and one vendor-specific format (`.scancsv` for Chromium laser ablation navigation software), but where these formats are text based (i.e. not binary proprietary formats) we could readily write reading and writing functions. While the coordinate transforms are relatively format agnostic (as long as it can be read..), these functions are required to make the software practical for use in other labs.\n",
    "\n",
    "* **3D Affine Transforms to Keep Focus/Surface Height Context**\n",
    "\n",
    "    Currently `autopew` only works in 2D, but with a bit of an upgrade we could also store 3D coordinate systems including a 'focus' or z coordinate which are useful for microscale analysis (e.g. especially SIMS). This could probably be implements as 2D + a 1D tilt, given we are typically working on approximately 2D surfaces. "
   ]
  },
  {
   "cell_type": "markdown",
   "metadata": {},
   "source": [
    "------\n",
    "\n",
    "| [**Abstract**](./00_overview.ipynb) | **Introduction**  | [**Examples**](./00_overview.ipynb#Examples)  |\n",
    "|:-----|:-----|:-----|\n",
    "|  | [Software in Geochem](./00_overview.ipynb#Software-in-Geochemistry)  |  [pyrolite](./011_pyrolite.ipynb)  |\n",
    "|  | [Development & Tools](./00_overview.ipynb#Development-Workflow-&-Tools) | [pyrolite-meltsutil](./012_pyrolite-meltsutil.ipynb) | \n",
    "|  |  | [interferences](./013_interferences.ipynb) | \n",
    "|  |  | [autopew](./014_autopew.ipynb) |  "
   ]
  },
  {
   "cell_type": "code",
   "execution_count": null,
   "metadata": {},
   "outputs": [],
   "source": []
  }
 ],
 "metadata": {
  "kernelspec": {
   "display_name": "Python 3",
   "language": "python",
   "name": "python3"
  },
  "language_info": {
   "codemirror_mode": {
    "name": "ipython",
    "version": 3
   },
   "file_extension": ".py",
   "mimetype": "text/x-python",
   "name": "python",
   "nbconvert_exporter": "python",
   "pygments_lexer": "ipython3",
   "version": "3.7.4"
  }
 },
 "nbformat": 4,
 "nbformat_minor": 4
}
