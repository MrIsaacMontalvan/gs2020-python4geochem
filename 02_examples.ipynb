{
 "cells": [
  {
   "cell_type": "markdown",
   "metadata": {},
   "source": [
    "# Building Open Source Geochemical Research Tools in Python\n",
    "\n",
    "<span id='authors'><b>Morgan Williams</b>, Louise Schoneveld, Steve Barnes and Jens Klump;</span>\n",
    "<span id='affiliation'><em>CSIRO Mineral Resources</em></span>\n",
    "\n",
    "[**Abstract**](/voila/render/00_overview.ipynb) | \n",
    "**Intro:**\n",
    "[Software in Geochemistry](/voila/render/01_introduction.ipynb#Software-in-Geochemistry),\n",
    "[Development Workflow & Tools](/voila/render/01_introduction.ipynb#Development-Workflow-&-Tools) | \n",
    "**Examples:** \n",
    "[pyrolite](/voila/render/02_examples.ipynb#pyrolite),\n",
    "[pyrolite-meltsutil](/voila/render/02_examples.ipynb#pyrolite-meltsutil),\n",
    "[interferences](/voila/render/02_examples.ipynb#interferences),\n",
    "[autopew](/voila/render/02_examples.ipynb#autopew) |\n",
    "[**Community**](/voila/render/03_community.ipynb) "
   ]
  },
  {
   "cell_type": "markdown",
   "metadata": {},
   "source": [
    "## [pyrolite](https://github.com/morganjwilliams/pyrolite)\n",
    "\n",
    ">  pyrolite is a set of tools for making the most of your geochemical data.\n",
    "\n",
    "[![PyPI](https://img.shields.io/pypi/v/pyrolite.svg?style=flat)](https://pypi.python.org/pypi/pyrolite)\n",
    "[![Docs](https://readthedocs.org/projects/pyrolite/badge/?version=develop)](https://pyrolite.readthedocs.io/)\n",
    "\n",
    "The python package includes functions to work with compositional data, to transform\n",
    "geochemical variables (e.g. elements to oxides), functions for common plotting\n",
    "tasks (e.g. spiderplots, ternary diagrams, bivariate and ternary density diagrams),\n",
    "and numerous auxiliary utilities."
   ]
  },
  {
   "cell_type": "markdown",
   "metadata": {},
   "source": [
    "## [pyrolite-meltsutil](https://github.com/morganjwilliams/pyrolite-meltsutil)\n",
    "\n",
    ">  pyrolite-meltsutil is a pyrolite extension for working with alphaMELTS and its outputs.\n",
    "\n",
    "[![PyPI](https://img.shields.io/pypi/v/pyrolite-meltsutil.svg?style=flat)](https://pypi.python.org/pypi/pyrolite-meltsutil)\n",
    "[![Docs](https://readthedocs.org/projects/pyrolite-meltsutil/badge/?version=develop)](https://pyrolite-meltsutil.readthedocs.io/)\n",
    "\n",
    "The python package includes functions to install and run melts with specific configurations,\n",
    "to import output tables, and to visualise these results."
   ]
  },
  {
   "cell_type": "markdown",
   "metadata": {},
   "source": [
    "## [interferences](https://github.com/morganjwilliams/interferences)\n",
    "\n",
    ">  Tools for inorganic mass spectra and interference patterns.\n",
    "\n",
    "[![Docs](https://readthedocs.org/projects/interferences/badge/?version=develop)](https://interferences.readthedocs.io/)\n",
    "\n",
    "This is an under-development package to facilitate debugging and identification of\n",
    "issues during method development and analysis of novel samples for geologically-focused\n",
    "mass spectrometry."
   ]
  },
  {
   "cell_type": "markdown",
   "metadata": {},
   "source": [
    "## [autopew](https://github.com/morganjwilliams/autopew)\n",
    "\n",
    "[![Docs](https://readthedocs.org/projects/autopew/badge/?version=develop)](https://autopew.readthedocs.io/)\n",
    "   \n",
    ">  Automating sample targeting for geological microanalysis systems."
   ]
  },
  {
   "cell_type": "code",
   "execution_count": null,
   "metadata": {},
   "outputs": [],
   "source": []
  }
 ],
 "metadata": {
  "kernelspec": {
   "display_name": "Python 3",
   "language": "python",
   "name": "python3"
  },
  "language_info": {
   "codemirror_mode": {
    "name": "ipython",
    "version": 3
   },
   "file_extension": ".py",
   "mimetype": "text/x-python",
   "name": "python",
   "nbconvert_exporter": "python",
   "pygments_lexer": "ipython3",
   "version": "3.7.4"
  }
 },
 "nbformat": 4,
 "nbformat_minor": 4
}
